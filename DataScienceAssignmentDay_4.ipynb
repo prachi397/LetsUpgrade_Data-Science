{
  "nbformat": 4,
  "nbformat_minor": 0,
  "metadata": {
    "colab": {
      "name": "DataScienceAssignmentDay-4.ipynb",
      "provenance": [],
      "authorship_tag": "ABX9TyMIiGs0oY+Bq22hpQnIQtYQ",
      "include_colab_link": true
    },
    "kernelspec": {
      "display_name": "Python 3",
      "name": "python3"
    }
  },
  "cells": [
    {
      "cell_type": "markdown",
      "metadata": {
        "id": "view-in-github",
        "colab_type": "text"
      },
      "source": [
        "<a href=\"https://colab.research.google.com/github/prachi397/LetsUpgrade_Data-Science/blob/main/DataScienceAssignmentDay_4.ipynb\" target=\"_parent\"><img src=\"https://colab.research.google.com/assets/colab-badge.svg\" alt=\"Open In Colab\"/></a>"
      ]
    },
    {
      "cell_type": "markdown",
      "metadata": {
        "id": "mKD2Lw8rikC3"
      },
      "source": [
        "**Question-1**"
      ]
    },
    {
      "cell_type": "code",
      "metadata": {
        "id": "mpqqdV4Ei1rn",
        "outputId": "4cea9a85-fafb-4297-c503-73fb7b3c9dcd",
        "colab": {
          "base_uri": "https://localhost:8080/"
        }
      },
      "source": [
        "pip install pandas"
      ],
      "execution_count": null,
      "outputs": [
        {
          "output_type": "stream",
          "text": [
            "Requirement already satisfied: pandas in /usr/local/lib/python3.6/dist-packages (1.1.4)\n",
            "Requirement already satisfied: pytz>=2017.2 in /usr/local/lib/python3.6/dist-packages (from pandas) (2018.9)\n",
            "Requirement already satisfied: numpy>=1.15.4 in /usr/local/lib/python3.6/dist-packages (from pandas) (1.18.5)\n",
            "Requirement already satisfied: python-dateutil>=2.7.3 in /usr/local/lib/python3.6/dist-packages (from pandas) (2.8.1)\n",
            "Requirement already satisfied: six>=1.5 in /usr/local/lib/python3.6/dist-packages (from python-dateutil>=2.7.3->pandas) (1.15.0)\n"
          ],
          "name": "stdout"
        }
      ]
    },
    {
      "cell_type": "code",
      "metadata": {
        "id": "ujWKnWfrjohM",
        "outputId": "3748645f-949e-45dc-cf66-285bea6e1dfe",
        "colab": {
          "background_save": true
        }
      },
      "source": [
        "import pandas as pd\n"
      ],
      "execution_count": null,
      "outputs": [
        {
          "output_type": "stream",
          "text": [
            "1.1.4\n"
          ],
          "name": "stdout"
        }
      ]
    },
    {
      "cell_type": "markdown",
      "metadata": {
        "id": "RR_MflGsygI_"
      },
      "source": [
        "**Question-2**"
      ]
    },
    {
      "cell_type": "code",
      "metadata": {
        "id": "ZhwGHqTNyi8O",
        "outputId": "14434d07-ac6b-4414-8953-b9084a634f32",
        "colab": {
          "base_uri": "https://localhost:8080/"
        }
      },
      "source": [
        "import numpy as np\n",
        "import pandas as pd\n",
        "data = np.array(['a', 'b', 'c', 'd', 'e']) \n",
        "series = pd.Series(data) \n",
        "print(series)"
      ],
      "execution_count": 12,
      "outputs": [
        {
          "output_type": "stream",
          "text": [
            "0    a\n",
            "1    b\n",
            "2    c\n",
            "3    d\n",
            "4    e\n",
            "dtype: object\n"
          ],
          "name": "stdout"
        }
      ]
    },
    {
      "cell_type": "markdown",
      "metadata": {
        "id": "8BcEWVIYyp_6"
      },
      "source": [
        "**Question-3**"
      ]
    },
    {
      "cell_type": "code",
      "metadata": {
        "id": "t-X_aaUcytxr",
        "outputId": "b6c20b45-31cf-463e-bd0e-cfeabbb7b543",
        "colab": {
          "base_uri": "https://localhost:8080/"
        }
      },
      "source": [
        "import numpy as np\n",
        "import pandas as pd\n",
        "data = np.array(['a', 'b', 'c', 'd', 'e']) \n",
        "series = pd.Series(data, index = [1, 2, 3, 4, 5]) \n",
        "df = series.to_frame().reset_index() \n",
        "print(df)"
      ],
      "execution_count": 14,
      "outputs": [
        {
          "output_type": "stream",
          "text": [
            "   index  0\n",
            "0      1  a\n",
            "1      2  b\n",
            "2      3  c\n",
            "3      4  d\n",
            "4      5  e\n"
          ],
          "name": "stdout"
        }
      ]
    },
    {
      "cell_type": "markdown",
      "metadata": {
        "id": "geqVSm4wzHPN"
      },
      "source": [
        "**Question-4**"
      ]
    },
    {
      "cell_type": "code",
      "metadata": {
        "id": "VorhY0K8zLNl",
        "outputId": "3e9581de-c14f-4d88-e7b3-5de38009f743",
        "colab": {
          "base_uri": "https://localhost:8080/"
        }
      },
      "source": [
        "import seaborn as sns\n",
        "\n",
        "mpg=sns.load_dataset('mpg')\n",
        "\n",
        "print(mpg)"
      ],
      "execution_count": 15,
      "outputs": [
        {
          "output_type": "stream",
          "text": [
            "      mpg  cylinders  ...  origin                       name\n",
            "0    18.0          8  ...     usa  chevrolet chevelle malibu\n",
            "1    15.0          8  ...     usa          buick skylark 320\n",
            "2    18.0          8  ...     usa         plymouth satellite\n",
            "3    16.0          8  ...     usa              amc rebel sst\n",
            "4    17.0          8  ...     usa                ford torino\n",
            "..    ...        ...  ...     ...                        ...\n",
            "393  27.0          4  ...     usa            ford mustang gl\n",
            "394  44.0          4  ...  europe                  vw pickup\n",
            "395  32.0          4  ...     usa              dodge rampage\n",
            "396  28.0          4  ...     usa                ford ranger\n",
            "397  31.0          4  ...     usa                 chevy s-10\n",
            "\n",
            "[398 rows x 9 columns]\n"
          ],
          "name": "stdout"
        }
      ]
    },
    {
      "cell_type": "markdown",
      "metadata": {
        "id": "EScjjBCzzhPN"
      },
      "source": [
        "**Question-5**"
      ]
    },
    {
      "cell_type": "code",
      "metadata": {
        "id": "n7hF3U8ZzjzZ",
        "outputId": "ce9fdd40-d122-47a3-b9ca-d3ebae174801",
        "colab": {
          "base_uri": "https://localhost:8080/"
        }
      },
      "source": [
        "import seaborn as sns\n",
        "import pandas as pd\n",
        "mpg=sns.load_dataset('mpg')\n",
        "df = pd.DataFrame(mpg)\n",
        "a = df.origin.unique()\n",
        "print(a)"
      ],
      "execution_count": 16,
      "outputs": [
        {
          "output_type": "stream",
          "text": [
            "['usa' 'japan' 'europe']\n"
          ],
          "name": "stdout"
        }
      ]
    },
    {
      "cell_type": "markdown",
      "metadata": {
        "id": "tr0Ownpoz0w3"
      },
      "source": [
        "**Question-6**"
      ]
    },
    {
      "cell_type": "code",
      "metadata": {
        "id": "Of9_LaH6z3jI",
        "outputId": "3d4dd740-9e53-43e4-976b-01d156024c49",
        "colab": {
          "base_uri": "https://localhost:8080/"
        }
      },
      "source": [
        "import seaborn as sns\n",
        "# importing pandas with alias name\n",
        "import pandas as pd\n",
        "\n",
        "# loading the dataset from seaborn\n",
        "mpg=sns.load_dataset('mpg')\n",
        "\n",
        "# creating a dataframe\n",
        "df = pd.DataFrame(mpg)\n",
        "\n",
        "# Displaying the part from dataframe where cars belong to \"usa\"\n",
        "a = df[df['origin'].str.contains(\"usa\")]\n",
        "print(a)"
      ],
      "execution_count": 17,
      "outputs": [
        {
          "output_type": "stream",
          "text": [
            "      mpg  cylinders  ...  origin                       name\n",
            "0    18.0          8  ...     usa  chevrolet chevelle malibu\n",
            "1    15.0          8  ...     usa          buick skylark 320\n",
            "2    18.0          8  ...     usa         plymouth satellite\n",
            "3    16.0          8  ...     usa              amc rebel sst\n",
            "4    17.0          8  ...     usa                ford torino\n",
            "..    ...        ...  ...     ...                        ...\n",
            "392  27.0          4  ...     usa           chevrolet camaro\n",
            "393  27.0          4  ...     usa            ford mustang gl\n",
            "395  32.0          4  ...     usa              dodge rampage\n",
            "396  28.0          4  ...     usa                ford ranger\n",
            "397  31.0          4  ...     usa                 chevy s-10\n",
            "\n",
            "[249 rows x 9 columns]\n"
          ],
          "name": "stdout"
        }
      ]
    }
  ]
}