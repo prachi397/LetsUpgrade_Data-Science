{
  "nbformat": 4,
  "nbformat_minor": 0,
  "metadata": {
    "colab": {
      "name": "DataScience_AssignmentDay-2.ipynb",
      "provenance": [],
      "authorship_tag": "ABX9TyPSqCEPrC8jgXM7ln9+QpId",
      "include_colab_link": true
    },
    "kernelspec": {
      "name": "python3",
      "display_name": "Python 3"
    }
  },
  "cells": [
    {
      "cell_type": "markdown",
      "metadata": {
        "id": "view-in-github",
        "colab_type": "text"
      },
      "source": [
        "<a href=\"https://colab.research.google.com/github/prachi397/LetsUpgrade_Data-Science/blob/main/DataScience_AssignmentDay_2.ipynb\" target=\"_parent\"><img src=\"https://colab.research.google.com/assets/colab-badge.svg\" alt=\"Open In Colab\"/></a>"
      ]
    },
    {
      "cell_type": "markdown",
      "metadata": {
        "id": "wbXXqmhHI6Xe"
      },
      "source": [
        "**Question-1**"
      ]
    },
    {
      "cell_type": "code",
      "metadata": {
        "id": "SgMh2hG3KleB",
        "outputId": "4a5e48b4-f902-498b-a4bd-32716a318142",
        "colab": {
          "base_uri": "https://localhost:8080/"
        }
      },
      "source": [
        "l =[]\n",
        "for i in range(10):\n",
        "  num = int(input(\"enter the number\")) \n",
        "  if(num%2==0):\n",
        "    l.append(num)\n",
        "    print(l)"
      ],
      "execution_count": null,
      "outputs": [
        {
          "output_type": "stream",
          "text": [
            "enter the number3\n",
            "enter the number2\n",
            "[2]\n",
            "enter the number1\n",
            "enter the number4\n",
            "[2, 4]\n",
            "enter the number6\n",
            "[2, 4, 6]\n",
            "enter the number7\n",
            "enter the number8\n",
            "[2, 4, 6, 8]\n",
            "enter the number9\n",
            "enter the number5\n",
            "enter the number9\n"
          ],
          "name": "stdout"
        }
      ]
    },
    {
      "cell_type": "markdown",
      "metadata": {
        "id": "tSfJs9D2LnV5"
      },
      "source": [
        "**Question-2**"
      ]
    },
    {
      "cell_type": "code",
      "metadata": {
        "id": "WajFZFgYLr9_",
        "outputId": "01c4e082-5221-41c9-8aab-56f245ad9a73",
        "colab": {
          "base_uri": "https://localhost:8080/"
        }
      },
      "source": [
        "input_list = [1, 2, 3, 4, 4, 5, 6, 7, 7, 8, 8, 9, 9] \n",
        "  \n",
        "list_using_comp = [var for var in input_list if var % 2 == 0] \n",
        "print(\"Hey this is Prachi and my list after using list comperihension is:\", list_using_comp) \n"
      ],
      "execution_count": null,
      "outputs": [
        {
          "output_type": "stream",
          "text": [
            "Hey this is Prachi and my list after using list comperihension is: [2, 4, 4, 6, 8, 8]\n"
          ],
          "name": "stdout"
        }
      ]
    },
    {
      "cell_type": "markdown",
      "metadata": {
        "id": "yZKXRv4DMLMe"
      },
      "source": [
        "**Question-3**"
      ]
    },
    {
      "cell_type": "code",
      "metadata": {
        "id": "OAyxk3pUMOTO",
        "outputId": "a0ab498b-61de-489b-a3bd-5f8e5a4876b9",
        "colab": {
          "base_uri": "https://localhost:8080/"
        }
      },
      "source": [
        "n = int(input(\"enter the number\"))\n",
        "d={}\n",
        "for i in range(1,n+1):\n",
        "  d.update({i:i*i})\n",
        "  print(d)"
      ],
      "execution_count": null,
      "outputs": [
        {
          "output_type": "stream",
          "text": [
            "enter the number4\n",
            "{1: 1}\n",
            "{1: 1, 2: 4}\n",
            "{1: 1, 2: 4, 3: 9}\n",
            "{1: 1, 2: 4, 3: 9, 4: 16}\n"
          ],
          "name": "stdout"
        }
      ]
    },
    {
      "cell_type": "markdown",
      "metadata": {
        "id": "H6nvfYAeOCB6"
      },
      "source": [
        "**Question-4**"
      ]
    },
    {
      "cell_type": "code",
      "metadata": {
        "id": "prgA-h3bOFKC"
      },
      "source": [
        "pos = {\"x\":0,\"y\":0}\n",
        "n = int(input())\n",
        "up = 5\n",
        "down = 3\n",
        "left = 3\n",
        "right = 2\n",
        "# for loop\n",
        "for i in range (n):\n",
        "   move =  input().split(\" \")      \n",
        "    \n",
        "    if move[0].lower() == \"up\":     \n",
        "        pos[\"y\"] += int(move[1])   \n",
        "    \n",
        "    elif move[0].lower() == \"down\":\n",
        "        pos[\"y\"] -= int(move[1])\n",
        "    \n",
        "    elif move[0].lower() == \"left\":\n",
        "        pos[\"x\"] -= int(move[1])\n",
        "    \n",
        "    elif move[0].lower() == \"right\":\n",
        "        pos[\"x\"] += int(move[1])\n",
        "print(int(round((pos[\"x\"]**2 + pos[\"y\"]**2)**0.5)))   # DISTANCE FROM ORIGIN\n"
      ],
      "execution_count": null,
      "outputs": []
    }
  ]
}