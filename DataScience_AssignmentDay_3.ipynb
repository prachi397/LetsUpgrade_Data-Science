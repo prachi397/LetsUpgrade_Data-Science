{
  "nbformat": 4,
  "nbformat_minor": 0,
  "metadata": {
    "colab": {
      "name": "DataScience-AssignmentDay-3.ipynb",
      "provenance": [],
      "authorship_tag": "ABX9TyNq6lHW4dHbhNtdkNZeUxhw",
      "include_colab_link": true
    },
    "kernelspec": {
      "name": "python3",
      "display_name": "Python 3"
    }
  },
  "cells": [
    {
      "cell_type": "markdown",
      "metadata": {
        "id": "view-in-github",
        "colab_type": "text"
      },
      "source": [
        "<a href=\"https://colab.research.google.com/github/prachi397/LetsUpgrade_Data-Science/blob/main/DataScience_AssignmentDay_3.ipynb\" target=\"_parent\"><img src=\"https://colab.research.google.com/assets/colab-badge.svg\" alt=\"Open In Colab\"/></a>"
      ]
    },
    {
      "cell_type": "markdown",
      "metadata": {
        "id": "o9mBSRRz6mqI"
      },
      "source": [
        "**Question-1**"
      ]
    },
    {
      "cell_type": "code",
      "metadata": {
        "id": "Rhstpg-a6qQy",
        "outputId": "f108a566-f67f-4f07-e63f-5030c105f36d",
        "colab": {
          "base_uri": "https://localhost:8080/"
        }
      },
      "source": [
        "import numpy as np\n",
        "arr = np.arange(2,50,3)\n",
        "print(arr)"
      ],
      "execution_count": null,
      "outputs": [
        {
          "output_type": "stream",
          "text": [
            "[ 2  5  8 11 14 17 20 23 26 29 32 35 38 41 44 47]\n"
          ],
          "name": "stdout"
        }
      ]
    },
    {
      "cell_type": "markdown",
      "metadata": {
        "id": "AzMH6y4ZgUmg"
      },
      "source": [
        "**Question-2**"
      ]
    },
    {
      "cell_type": "code",
      "metadata": {
        "id": "CjO_Ng8BgYGh",
        "outputId": "7b6776ca-0ecd-4d82-949f-10377affc19c",
        "colab": {
          "base_uri": "https://localhost:8080/"
        }
      },
      "source": [
        "import numpy as np\n",
        "l1 = []\n",
        "for i in range(0, 5): \n",
        "    n = int(input(\"enter the elements of first list: \"))\n",
        "    l1.append(n) # adding the element \n",
        "    \n",
        "l2 = []\n",
        "for i in range(0, 5): \n",
        "    n = int(input(\"enter the elements of second list: \")) \n",
        "    l2.append(n)\n",
        "print(\"first list is:\",l1)\n",
        "print(\"second list is:\",l2)\n",
        "arr1 = np.array(l1)\n",
        "arr2 = np.array(l2)\n",
        "print(arr1)\n",
        "print(arr2)\n",
        "arr = np.concatenate((arr1,arr2))\n",
        "print(arr)\n",
        "print(\"first sorted array is:\",np.sort(arr1))\n",
        "print(\"second sorted array is:\",np.sort(arr2)"
      ],
      "execution_count": null,
      "outputs": [
        {
          "output_type": "stream",
          "text": [
            "enter the elements of first list: 1\n",
            "enter the elements of first list: 6\n",
            "enter the elements of first list: 5\n",
            "enter the elements of first list: 4\n",
            "enter the elements of first list: 3\n",
            "enter the elements of second list: 9\n",
            "enter the elements of second list: 6\n",
            "enter the elements of second list: 8\n",
            "enter the elements of second list: 3\n",
            "enter the elements of second list: 2\n",
            "first list is: [1, 6, 5, 4, 3]\n",
            "second list is: [9, 6, 8, 3, 2]\n",
            "[1 6 5 4 3]\n",
            "[9 6 8 3 2]\n",
            "[1 6 5 4 3 9 6 8 3 2]\n",
            "first sorted array is: [1 3 4 5 6]\n",
            "second sorted array is: [2 3 6 8 9]\n"
          ],
          "name": "stdout"
        }
      ]
    },
    {
      "cell_type": "markdown",
      "metadata": {
        "id": "qwuucs27k3Yf"
      },
      "source": [
        "**Question-3**"
      ]
    },
    {
      "cell_type": "code",
      "metadata": {
        "id": "z0G6Hk3lk6y0",
        "outputId": "02a5fc92-dc50-457b-9cef-bc8195a4b10a",
        "colab": {
          "base_uri": "https://localhost:8080/"
        }
      },
      "source": [
        "import numpy as np\n",
        "arr = np.array([[13,16,31],[11,18,20]])\n",
        "print(\"number of dimensions is:\", arr.ndim)\n",
        "print(\"sizee of array is:\", arr.size)"
      ],
      "execution_count": null,
      "outputs": [
        {
          "output_type": "stream",
          "text": [
            "number of dimensions is: 2\n",
            "sizee of array is: 6\n"
          ],
          "name": "stdout"
        }
      ]
    },
    {
      "cell_type": "markdown",
      "metadata": {
        "id": "WHFwQLfvmccl"
      },
      "source": [
        "**Question-4**"
      ]
    },
    {
      "cell_type": "code",
      "metadata": {
        "id": "PwVPEHokmfmz",
        "outputId": "19799370-315c-4b53-b1e2-d024a2539f27",
        "colab": {
          "base_uri": "https://localhost:8080/"
        }
      },
      "source": [
        "import numpy as np\n",
        "arr = np.array([1,2,3,4,5,6,7,8])\n",
        "print(\"1-D array is: \", arr)\n",
        "arr2 = np.reshape(arr,(2,4))\n",
        "print(\"array after converting 2-D array is: \",arr2)\n"
      ],
      "execution_count": null,
      "outputs": [
        {
          "output_type": "stream",
          "text": [
            "1-D array is:  [1 2 3 4 5 6 7 8]\n",
            "array after converting 2-D array is:  [[1 2 3 4]\n",
            " [5 6 7 8]]\n"
          ],
          "name": "stdout"
        }
      ]
    },
    {
      "cell_type": "markdown",
      "metadata": {
        "id": "BB4eHx29nzJt"
      },
      "source": [
        "**Question-5**"
      ]
    },
    {
      "cell_type": "code",
      "metadata": {
        "id": "3gN2LV7rn4ae",
        "outputId": "02ed3a44-d8f4-478a-de9b-311c8e325bee",
        "colab": {
          "base_uri": "https://localhost:8080/"
        }
      },
      "source": [
        "import numpy as np\n",
        "arr1 = np.array([[1,2,3],[4,5,6],[7,8,9]])\n",
        "arr2 = np.array([[11,12,13],[14,15,16],[17,18,19]])\n",
        "print(np.vstack(arr1))\n",
        "print(np.vstack(arr2))\n",
        "print(np.hstack(arr1))\n",
        "print(np.hstack(arr2))\n"
      ],
      "execution_count": null,
      "outputs": [
        {
          "output_type": "stream",
          "text": [
            "[[1 2 3]\n",
            " [4 5 6]\n",
            " [7 8 9]]\n",
            "[[11 12 13]\n",
            " [14 15 16]\n",
            " [17 18 19]]\n",
            "[1 2 3 4 5 6 7 8 9]\n",
            "[11 12 13 14 15 16 17 18 19]\n"
          ],
          "name": "stdout"
        }
      ]
    },
    {
      "cell_type": "markdown",
      "metadata": {
        "id": "sS_aiqkVpmIV"
      },
      "source": [
        "**Question-6**"
      ]
    },
    {
      "cell_type": "code",
      "metadata": {
        "id": "Ng-GFvwHppfZ"
      },
      "source": [
        "import numpy as np\n",
        "arr_1 = np.array([1, 4, 9, 16, 25, 1, 4, 2, 3, 2, 5, 6, 5, 7, 8, 10])\n",
        "unique, counts = np.unique(arr_1, return_counts=True)\n",
        "arr = np.asarray((unique, counts)).T\n",
        "print(arr)"
      ],
      "execution_count": null,
      "outputs": []
    }
  ]
}