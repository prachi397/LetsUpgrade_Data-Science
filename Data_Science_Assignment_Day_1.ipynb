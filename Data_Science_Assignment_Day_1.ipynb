{
  "nbformat": 4,
  "nbformat_minor": 0,
  "metadata": {
    "colab": {
      "name": "Data-Science-Assignment_Day-1.ipynb",
      "provenance": [],
      "authorship_tag": "ABX9TyN7b/dy94zL5J5CtnFaEvX6",
      "include_colab_link": true
    },
    "kernelspec": {
      "name": "python3",
      "display_name": "Python 3"
    }
  },
  "cells": [
    {
      "cell_type": "markdown",
      "metadata": {
        "id": "view-in-github",
        "colab_type": "text"
      },
      "source": [
        "<a href=\"https://colab.research.google.com/github/prachi397/LetsUpgrade_Data-Science/blob/main/Data_Science_Assignment_Day_1.ipynb\" target=\"_parent\"><img src=\"https://colab.research.google.com/assets/colab-badge.svg\" alt=\"Open In Colab\"/></a>"
      ]
    },
    {
      "cell_type": "markdown",
      "metadata": {
        "id": "jA67IElvqbs6"
      },
      "source": [
        "**Question-1**"
      ]
    },
    {
      "cell_type": "code",
      "metadata": {
        "id": "RHBnejZhtyUy",
        "outputId": "4332d7b0-b4f0-4dc9-d476-70b9c9a35c38",
        "colab": {
          "base_uri": "https://localhost:8080/"
        }
      },
      "source": [
        "given_word = \"OBANWARI\"\n",
        "A = \"RANIBOW\"\n",
        "B = \"RAINBOW\"\n",
        "C = \"BOWRANI\"\n",
        "D = \"ROBWANI\"\n",
        "print(B,\"is the correct English word.\")"
      ],
      "execution_count": null,
      "outputs": [
        {
          "output_type": "stream",
          "text": [
            "RAINBOW is the correct English word.\n"
          ],
          "name": "stdout"
        }
      ]
    },
    {
      "cell_type": "markdown",
      "metadata": {
        "id": "Ngb3ypy-t1CC"
      },
      "source": [
        "**Question-2**"
      ]
    },
    {
      "cell_type": "code",
      "metadata": {
        "id": "n3acMxpLqf-1",
        "outputId": "51e655df-ee9f-4dfd-b81a-bd60354049b4",
        "colab": {
          "base_uri": "https://localhost:8080/"
        }
      },
      "source": [
        "#program to print letsupgrade--\n",
        "print(\"LETS UPGRADE\")"
      ],
      "execution_count": null,
      "outputs": [
        {
          "output_type": "stream",
          "text": [
            "LETS UPGRADE\n"
          ],
          "name": "stdout"
        }
      ]
    },
    {
      "cell_type": "markdown",
      "metadata": {
        "id": "P7Q1pzPorNpI"
      },
      "source": [
        "**Question-3**"
      ]
    },
    {
      "cell_type": "code",
      "metadata": {
        "id": "DBOHy5PorQ4p",
        "outputId": "483a25c5-4f1b-43c5-82d6-4895914a0514",
        "colab": {
          "base_uri": "https://localhost:8080/"
        }
      },
      "source": [
        "cost_price = int(input())\n",
        "selling_price = int(input())\n",
        "if(selling_price > cost_price):\n",
        "  print(\"Profit\")\n",
        "elif(selling_price < cost_price):\n",
        "  print(\"Loss\")\n",
        "else:\n",
        "  print(\"Neither\")\n"
      ],
      "execution_count": null,
      "outputs": [
        {
          "output_type": "stream",
          "text": [
            "20\n",
            "20\n",
            "Neither\n"
          ],
          "name": "stdout"
        }
      ]
    },
    {
      "cell_type": "markdown",
      "metadata": {
        "id": "Qko0s6ETtFO5"
      },
      "source": [
        "**Question-4**"
      ]
    },
    {
      "cell_type": "code",
      "metadata": {
        "id": "7gO16ne5tLxP",
        "outputId": "6900bd3d-101a-4dd6-8d55-a92cfcc77155",
        "colab": {
          "base_uri": "https://localhost:8080/"
        }
      },
      "source": [
        "Rupees = int(input())\n",
        "Euro = Rupees*80\n",
        "print(Euro)"
      ],
      "execution_count": null,
      "outputs": [
        {
          "output_type": "stream",
          "text": [
            "18\n",
            "1440\n"
          ],
          "name": "stdout"
        }
      ]
    }
  ]
}